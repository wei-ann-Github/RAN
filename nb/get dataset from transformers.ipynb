{
 "cells": [
  {
   "cell_type": "code",
   "execution_count": 1,
   "id": "2a4bfca5",
   "metadata": {},
   "outputs": [
    {
     "name": "stdout",
     "output_type": "stream",
     "text": [
      "Collecting transformers\n",
      "  Downloading transformers-4.15.0-py3-none-any.whl (3.4 MB)\n",
      "     |████████████████████████████████| 3.4 MB 125 kB/s            \n",
      "\u001b[?25hCollecting filelock\n",
      "  Downloading filelock-3.4.2-py3-none-any.whl (9.9 kB)\n",
      "Requirement already satisfied: packaging>=20.0 in /home/weiann/anaconda3/envs/ran/lib/python3.8/site-packages (from transformers) (21.3)\n",
      "Requirement already satisfied: tqdm>=4.27 in /home/weiann/anaconda3/envs/ran/lib/python3.8/site-packages (from transformers) (4.62.3)\n",
      "Collecting tokenizers<0.11,>=0.10.1\n",
      "  Using cached tokenizers-0.10.3-cp38-cp38-manylinux_2_5_x86_64.manylinux1_x86_64.manylinux_2_12_x86_64.manylinux2010_x86_64.whl (3.3 MB)\n",
      "Collecting huggingface-hub<1.0,>=0.1.0\n",
      "  Downloading huggingface_hub-0.4.0-py3-none-any.whl (67 kB)\n",
      "     |████████████████████████████████| 67 kB 275 kB/s            \n",
      "\u001b[?25hCollecting sacremoses\n",
      "  Downloading sacremoses-0.0.47-py2.py3-none-any.whl (895 kB)\n",
      "     |████████████████████████████████| 895 kB 76 kB/s             \n",
      "\u001b[?25hRequirement already satisfied: numpy>=1.17 in /home/weiann/anaconda3/envs/ran/lib/python3.8/site-packages (from transformers) (1.21.5)\n",
      "Collecting regex!=2019.12.17\n",
      "  Downloading regex-2022.1.18-cp38-cp38-manylinux_2_17_x86_64.manylinux2014_x86_64.whl (764 kB)\n",
      "     |████████████████████████████████| 764 kB 92 kB/s             \n",
      "\u001b[?25hCollecting requests\n",
      "  Downloading requests-2.27.1-py2.py3-none-any.whl (63 kB)\n",
      "     |████████████████████████████████| 63 kB 194 kB/s            \n",
      "\u001b[?25hCollecting pyyaml>=5.1\n",
      "  Downloading PyYAML-6.0-cp38-cp38-manylinux_2_5_x86_64.manylinux1_x86_64.manylinux_2_12_x86_64.manylinux2010_x86_64.whl (701 kB)\n",
      "     |████████████████████████████████| 701 kB 172 kB/s            \n",
      "\u001b[?25hRequirement already satisfied: typing-extensions>=3.7.4.3 in /home/weiann/anaconda3/envs/ran/lib/python3.8/site-packages (from huggingface-hub<1.0,>=0.1.0->transformers) (4.0.1)\n",
      "Requirement already satisfied: pyparsing!=3.0.5,>=2.0.2 in /home/weiann/anaconda3/envs/ran/lib/python3.8/site-packages (from packaging>=20.0->transformers) (3.0.7)\n",
      "Collecting certifi>=2017.4.17\n",
      "  Downloading certifi-2021.10.8-py2.py3-none-any.whl (149 kB)\n",
      "     |████████████████████████████████| 149 kB 175 kB/s            \n",
      "\u001b[?25hCollecting idna<4,>=2.5\n",
      "  Downloading idna-3.3-py3-none-any.whl (61 kB)\n",
      "     |████████████████████████████████| 61 kB 214 kB/s            \n",
      "\u001b[?25hCollecting urllib3<1.27,>=1.21.1\n",
      "  Downloading urllib3-1.26.8-py2.py3-none-any.whl (138 kB)\n",
      "     |████████████████████████████████| 138 kB 188 kB/s            \n",
      "\u001b[?25hCollecting charset-normalizer~=2.0.0\n",
      "  Downloading charset_normalizer-2.0.10-py3-none-any.whl (39 kB)\n",
      "Collecting joblib\n",
      "  Downloading joblib-1.1.0-py2.py3-none-any.whl (306 kB)\n",
      "     |████████████████████████████████| 306 kB 400 kB/s            \n",
      "\u001b[?25hRequirement already satisfied: click in /home/weiann/anaconda3/envs/ran/lib/python3.8/site-packages (from sacremoses->transformers) (8.0.3)\n",
      "Requirement already satisfied: six in /home/weiann/anaconda3/envs/ran/lib/python3.8/site-packages (from sacremoses->transformers) (1.16.0)\n",
      "Installing collected packages: urllib3, idna, charset-normalizer, certifi, requests, regex, pyyaml, joblib, filelock, tokenizers, sacremoses, huggingface-hub, transformers\n",
      "Successfully installed certifi-2021.10.8 charset-normalizer-2.0.10 filelock-3.4.2 huggingface-hub-0.4.0 idna-3.3 joblib-1.1.0 pyyaml-6.0 regex-2022.1.18 requests-2.27.1 sacremoses-0.0.47 tokenizers-0.10.3 transformers-4.15.0 urllib3-1.26.8\n"
     ]
    }
   ],
   "source": [
    "!pip install transformers"
   ]
  },
  {
   "cell_type": "code",
   "execution_count": 5,
   "id": "aa5606d7",
   "metadata": {},
   "outputs": [
    {
     "name": "stdout",
     "output_type": "stream",
     "text": [
      "Collecting datasets\n",
      "  Downloading datasets-1.18.0-py3-none-any.whl (311 kB)\n",
      "     |████████████████████████████████| 311 kB 466 kB/s            \n",
      "\u001b[?25hCollecting xxhash\n",
      "  Using cached xxhash-2.0.2-cp38-cp38-manylinux2010_x86_64.whl (243 kB)\n",
      "Collecting pyarrow!=4.0.0,>=3.0.0\n",
      "  Downloading pyarrow-6.0.1-cp38-cp38-manylinux_2_17_x86_64.manylinux2014_x86_64.whl (25.6 MB)\n",
      "     |████████████████████████████████| 25.6 MB 55 kB/s             \n",
      "\u001b[?25hRequirement already satisfied: tqdm>=4.62.1 in /home/weiann/anaconda3/envs/ran/lib/python3.8/site-packages (from datasets) (4.62.3)\n",
      "Collecting aiohttp\n",
      "  Downloading aiohttp-3.8.1-cp38-cp38-manylinux_2_5_x86_64.manylinux1_x86_64.manylinux_2_12_x86_64.manylinux2010_x86_64.whl (1.3 MB)\n",
      "     |████████████████████████████████| 1.3 MB 124 kB/s            \n",
      "\u001b[?25hRequirement already satisfied: huggingface-hub<1.0.0,>=0.1.0 in /home/weiann/anaconda3/envs/ran/lib/python3.8/site-packages (from datasets) (0.4.0)\n",
      "Collecting pandas\n",
      "  Downloading pandas-1.4.0-cp38-cp38-manylinux_2_17_x86_64.manylinux2014_x86_64.whl (11.7 MB)\n",
      "     |████████████████████████████████| 11.7 MB 144 kB/s            \n",
      "\u001b[?25hRequirement already satisfied: requests>=2.19.0 in /home/weiann/anaconda3/envs/ran/lib/python3.8/site-packages (from datasets) (2.27.1)\n",
      "Collecting multiprocess\n",
      "  Downloading multiprocess-0.70.12.2-py38-none-any.whl (128 kB)\n",
      "     |████████████████████████████████| 128 kB 167 kB/s            \n",
      "\u001b[?25hRequirement already satisfied: packaging in /home/weiann/anaconda3/envs/ran/lib/python3.8/site-packages (from datasets) (21.3)\n",
      "Collecting fsspec[http]>=2021.05.0\n",
      "  Downloading fsspec-2022.1.0-py3-none-any.whl (133 kB)\n",
      "     |████████████████████████████████| 133 kB 319 kB/s            \n",
      "\u001b[?25hRequirement already satisfied: dill in /home/weiann/anaconda3/envs/ran/lib/python3.8/site-packages (from datasets) (0.3.4)\n",
      "Requirement already satisfied: numpy>=1.17 in /home/weiann/anaconda3/envs/ran/lib/python3.8/site-packages (from datasets) (1.21.5)\n",
      "Requirement already satisfied: filelock in /home/weiann/anaconda3/envs/ran/lib/python3.8/site-packages (from huggingface-hub<1.0.0,>=0.1.0->datasets) (3.4.2)\n",
      "Requirement already satisfied: typing-extensions>=3.7.4.3 in /home/weiann/anaconda3/envs/ran/lib/python3.8/site-packages (from huggingface-hub<1.0.0,>=0.1.0->datasets) (4.0.1)\n",
      "Requirement already satisfied: pyyaml in /home/weiann/anaconda3/envs/ran/lib/python3.8/site-packages (from huggingface-hub<1.0.0,>=0.1.0->datasets) (6.0)\n",
      "Requirement already satisfied: pyparsing!=3.0.5,>=2.0.2 in /home/weiann/anaconda3/envs/ran/lib/python3.8/site-packages (from packaging->datasets) (3.0.7)\n",
      "Requirement already satisfied: idna<4,>=2.5 in /home/weiann/anaconda3/envs/ran/lib/python3.8/site-packages (from requests>=2.19.0->datasets) (3.3)\n",
      "Requirement already satisfied: charset-normalizer~=2.0.0 in /home/weiann/anaconda3/envs/ran/lib/python3.8/site-packages (from requests>=2.19.0->datasets) (2.0.10)\n",
      "Requirement already satisfied: certifi>=2017.4.17 in /home/weiann/anaconda3/envs/ran/lib/python3.8/site-packages (from requests>=2.19.0->datasets) (2021.10.8)\n",
      "Requirement already satisfied: urllib3<1.27,>=1.21.1 in /home/weiann/anaconda3/envs/ran/lib/python3.8/site-packages (from requests>=2.19.0->datasets) (1.26.8)\n",
      "Collecting aiosignal>=1.1.2\n",
      "  Downloading aiosignal-1.2.0-py3-none-any.whl (8.2 kB)\n",
      "Collecting multidict<7.0,>=4.5\n",
      "  Downloading multidict-6.0.2-cp38-cp38-manylinux_2_17_x86_64.manylinux2014_x86_64.whl (121 kB)\n",
      "     |████████████████████████████████| 121 kB 459 kB/s            \n",
      "\u001b[?25hCollecting frozenlist>=1.1.1\n",
      "  Downloading frozenlist-1.3.0-cp38-cp38-manylinux_2_5_x86_64.manylinux1_x86_64.manylinux_2_17_x86_64.manylinux2014_x86_64.whl (158 kB)\n",
      "     |████████████████████████████████| 158 kB 269 kB/s            \n",
      "\u001b[?25hCollecting async-timeout<5.0,>=4.0.0a3\n",
      "  Downloading async_timeout-4.0.2-py3-none-any.whl (5.8 kB)\n",
      "Collecting yarl<2.0,>=1.0\n",
      "  Downloading yarl-1.7.2-cp38-cp38-manylinux_2_5_x86_64.manylinux1_x86_64.manylinux_2_12_x86_64.manylinux2010_x86_64.whl (308 kB)\n",
      "     |████████████████████████████████| 308 kB 112 kB/s            \n",
      "\u001b[?25hRequirement already satisfied: attrs>=17.3.0 in /home/weiann/anaconda3/envs/ran/lib/python3.8/site-packages (from aiohttp->datasets) (21.4.0)\n",
      "Requirement already satisfied: python-dateutil>=2.8.1 in /home/weiann/anaconda3/envs/ran/lib/python3.8/site-packages (from pandas->datasets) (2.8.2)\n",
      "Collecting pytz>=2020.1\n",
      "  Downloading pytz-2021.3-py2.py3-none-any.whl (503 kB)\n",
      "     |████████████████████████████████| 503 kB 62 kB/s             \n",
      "\u001b[?25hRequirement already satisfied: six>=1.5 in /home/weiann/anaconda3/envs/ran/lib/python3.8/site-packages (from python-dateutil>=2.8.1->pandas->datasets) (1.16.0)\n",
      "Installing collected packages: multidict, frozenlist, yarl, async-timeout, aiosignal, pytz, fsspec, aiohttp, xxhash, pyarrow, pandas, multiprocess, datasets\n",
      "Successfully installed aiohttp-3.8.1 aiosignal-1.2.0 async-timeout-4.0.2 datasets-1.18.0 frozenlist-1.3.0 fsspec-2022.1.0 multidict-6.0.2 multiprocess-0.70.12.2 pandas-1.4.0 pyarrow-6.0.1 pytz-2021.3 xxhash-2.0.2 yarl-1.7.2\n"
     ]
    }
   ],
   "source": [
    "!pip install datasets "
   ]
  },
  {
   "cell_type": "code",
   "execution_count": 6,
   "id": "699e1356",
   "metadata": {},
   "outputs": [],
   "source": [
    "from datasets import load_dataset"
   ]
  },
  {
   "cell_type": "code",
   "execution_count": 7,
   "id": "cf933cef",
   "metadata": {},
   "outputs": [
    {
     "data": {
      "application/vnd.jupyter.widget-view+json": {
       "model_id": "f924e64c8d29401f90ee56f32bc18faf",
       "version_major": 2,
       "version_minor": 0
      },
      "text/plain": [
       "Downloading:   0%|          | 0.00/1.95k [00:00<?, ?B/s]"
      ]
     },
     "metadata": {},
     "output_type": "display_data"
    },
    {
     "data": {
      "application/vnd.jupyter.widget-view+json": {
       "model_id": "432c360af0324ec2a6c924065adf1ba3",
       "version_major": 2,
       "version_minor": 0
      },
      "text/plain": [
       "Downloading:   0%|          | 0.00/1.45k [00:00<?, ?B/s]"
      ]
     },
     "metadata": {},
     "output_type": "display_data"
    },
    {
     "name": "stderr",
     "output_type": "stream",
     "text": [
      "Using custom data configuration en-es-lang1=en,lang2=es\n"
     ]
    },
    {
     "name": "stdout",
     "output_type": "stream",
     "text": [
      "Downloading and preparing dataset tatoeba/en-es to /home/weiann/.cache/huggingface/datasets/tatoeba/en-es-lang1=en,lang2=es/0.0.0/b3ea9c6bb2af47699c5fc0a155643f5a0da287c7095ea14824ee0a8afd74daf6...\n"
     ]
    },
    {
     "data": {
      "application/vnd.jupyter.widget-view+json": {
       "model_id": "318c41dd77e34795817711f68bfb51c6",
       "version_major": 2,
       "version_minor": 0
      },
      "text/plain": [
       "Downloading:   0%|          | 0.00/6.88M [00:00<?, ?B/s]"
      ]
     },
     "metadata": {},
     "output_type": "display_data"
    },
    {
     "data": {
      "application/vnd.jupyter.widget-view+json": {
       "model_id": "",
       "version_major": 2,
       "version_minor": 0
      },
      "text/plain": [
       "0 examples [00:00, ? examples/s]"
      ]
     },
     "metadata": {},
     "output_type": "display_data"
    },
    {
     "name": "stdout",
     "output_type": "stream",
     "text": [
      "Dataset tatoeba downloaded and prepared to /home/weiann/.cache/huggingface/datasets/tatoeba/en-es-lang1=en,lang2=es/0.0.0/b3ea9c6bb2af47699c5fc0a155643f5a0da287c7095ea14824ee0a8afd74daf6. Subsequent calls will reuse this data.\n"
     ]
    },
    {
     "data": {
      "application/vnd.jupyter.widget-view+json": {
       "model_id": "2f586d77817149cd9bd509c79dc7e58a",
       "version_major": 2,
       "version_minor": 0
      },
      "text/plain": [
       "  0%|          | 0/1 [00:00<?, ?it/s]"
      ]
     },
     "metadata": {},
     "output_type": "display_data"
    }
   ],
   "source": [
    "dataset = load_dataset(\"tatoeba\", lang1=\"en\", lang2=\"es\")"
   ]
  },
  {
   "cell_type": "code",
   "execution_count": 9,
   "id": "31e06103",
   "metadata": {},
   "outputs": [
    {
     "data": {
      "text/plain": [
       "\"Let's try something.\""
      ]
     },
     "execution_count": 9,
     "metadata": {},
     "output_type": "execute_result"
    }
   ],
   "source": [
    "dataset['train'][0]['translation']['en']"
   ]
  },
  {
   "cell_type": "code",
   "execution_count": 12,
   "id": "6a28a1cc",
   "metadata": {},
   "outputs": [
    {
     "data": {
      "text/plain": [
       "[{'en': \"Let's try something.\", 'es': '¡Intentemos algo!'},\n",
       " {'en': \"Let's try something.\", 'es': 'Intentemos algo.'},\n",
       " {'en': \"Let's try something.\", 'es': 'Permíteme hacer algo.'},\n",
       " {'en': \"Let's try something.\", 'es': 'Permíteme intentarlo.'},\n",
       " {'en': 'I have to go to sleep.', 'es': 'Tengo que irme a dormir.'}]"
      ]
     },
     "execution_count": 12,
     "metadata": {},
     "output_type": "execute_result"
    }
   ],
   "source": [
    "dataset['train'][:5]['translation']"
   ]
  },
  {
   "cell_type": "code",
   "execution_count": 13,
   "id": "38046f7d",
   "metadata": {},
   "outputs": [
    {
     "name": "stdout",
     "output_type": "stream",
     "text": [
      "Requirement already satisfied: pandas in /home/weiann/anaconda3/envs/ran/lib/python3.8/site-packages (1.4.0)\r\n",
      "Requirement already satisfied: python-dateutil>=2.8.1 in /home/weiann/anaconda3/envs/ran/lib/python3.8/site-packages (from pandas) (2.8.2)\r\n",
      "Requirement already satisfied: numpy>=1.18.5 in /home/weiann/anaconda3/envs/ran/lib/python3.8/site-packages (from pandas) (1.21.5)\r\n",
      "Requirement already satisfied: pytz>=2020.1 in /home/weiann/anaconda3/envs/ran/lib/python3.8/site-packages (from pandas) (2021.3)\r\n",
      "Requirement already satisfied: six>=1.5 in /home/weiann/anaconda3/envs/ran/lib/python3.8/site-packages (from python-dateutil>=2.8.1->pandas) (1.16.0)\r\n"
     ]
    }
   ],
   "source": [
    "!pip install pandas"
   ]
  },
  {
   "cell_type": "code",
   "execution_count": 14,
   "id": "4c4672c0",
   "metadata": {},
   "outputs": [],
   "source": [
    "import pandas as pd"
   ]
  },
  {
   "cell_type": "code",
   "execution_count": 15,
   "id": "2cdb426e",
   "metadata": {},
   "outputs": [
    {
     "data": {
      "text/html": [
       "<div>\n",
       "<style scoped>\n",
       "    .dataframe tbody tr th:only-of-type {\n",
       "        vertical-align: middle;\n",
       "    }\n",
       "\n",
       "    .dataframe tbody tr th {\n",
       "        vertical-align: top;\n",
       "    }\n",
       "\n",
       "    .dataframe thead th {\n",
       "        text-align: right;\n",
       "    }\n",
       "</style>\n",
       "<table border=\"1\" class=\"dataframe\">\n",
       "  <thead>\n",
       "    <tr style=\"text-align: right;\">\n",
       "      <th></th>\n",
       "      <th>en</th>\n",
       "      <th>es</th>\n",
       "    </tr>\n",
       "  </thead>\n",
       "  <tbody>\n",
       "    <tr>\n",
       "      <th>0</th>\n",
       "      <td>Let's try something.</td>\n",
       "      <td>¡Intentemos algo!</td>\n",
       "    </tr>\n",
       "    <tr>\n",
       "      <th>1</th>\n",
       "      <td>Let's try something.</td>\n",
       "      <td>Intentemos algo.</td>\n",
       "    </tr>\n",
       "    <tr>\n",
       "      <th>2</th>\n",
       "      <td>Let's try something.</td>\n",
       "      <td>Permíteme hacer algo.</td>\n",
       "    </tr>\n",
       "    <tr>\n",
       "      <th>3</th>\n",
       "      <td>Let's try something.</td>\n",
       "      <td>Permíteme intentarlo.</td>\n",
       "    </tr>\n",
       "    <tr>\n",
       "      <th>4</th>\n",
       "      <td>I have to go to sleep.</td>\n",
       "      <td>Tengo que irme a dormir.</td>\n",
       "    </tr>\n",
       "  </tbody>\n",
       "</table>\n",
       "</div>"
      ],
      "text/plain": [
       "                       en                        es\n",
       "0    Let's try something.         ¡Intentemos algo!\n",
       "1    Let's try something.          Intentemos algo.\n",
       "2    Let's try something.     Permíteme hacer algo.\n",
       "3    Let's try something.     Permíteme intentarlo.\n",
       "4  I have to go to sleep.  Tengo que irme a dormir."
      ]
     },
     "metadata": {},
     "output_type": "display_data"
    }
   ],
   "source": [
    "n_rows = 100000\n",
    "\n",
    "dataset_dict = dataset['train'][:n_rows]['translation']\n",
    "df = pd.DataFrame.from_records(dataset_dict)\n",
    "display(df.head())"
   ]
  },
  {
   "cell_type": "code",
   "execution_count": 16,
   "id": "298104e7",
   "metadata": {},
   "outputs": [
    {
     "data": {
      "text/plain": [
       "(100000, 2)"
      ]
     },
     "execution_count": 16,
     "metadata": {},
     "output_type": "execute_result"
    }
   ],
   "source": [
    "df.shape"
   ]
  },
  {
   "cell_type": "code",
   "execution_count": 17,
   "id": "29d5a304",
   "metadata": {},
   "outputs": [],
   "source": [
    "src_filename = '../data/en-es/tatoeba_100k.en-es.en'\n",
    "tgt_filename = '../data/en-es/tatoeba_100k.en-es.es'"
   ]
  },
  {
   "cell_type": "code",
   "execution_count": 18,
   "id": "5280ec83",
   "metadata": {},
   "outputs": [],
   "source": [
    "source_corpus = df.en.tolist()\n",
    "target_corpus = df.es.tolist()"
   ]
  },
  {
   "cell_type": "code",
   "execution_count": 19,
   "id": "78251581",
   "metadata": {},
   "outputs": [],
   "source": [
    "with open(src_filename, 'w') as f:\n",
    "    for l in source_corpus:\n",
    "        print(l, file=f)"
   ]
  },
  {
   "cell_type": "code",
   "execution_count": 20,
   "id": "7c153a66",
   "metadata": {},
   "outputs": [],
   "source": [
    "with open(tgt_filename, 'w') as f:\n",
    "    for l in target_corpus:\n",
    "        print(l, file=f)"
   ]
  }
 ],
 "metadata": {
  "kernelspec": {
   "display_name": "Python [conda env:ran] *",
   "language": "python",
   "name": "conda-env-ran-py"
  },
  "language_info": {
   "codemirror_mode": {
    "name": "ipython",
    "version": 3
   },
   "file_extension": ".py",
   "mimetype": "text/x-python",
   "name": "python",
   "nbconvert_exporter": "python",
   "pygments_lexer": "ipython3",
   "version": "3.8.12"
  }
 },
 "nbformat": 4,
 "nbformat_minor": 5
}
